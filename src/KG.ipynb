{
 "cells": [
  {
   "cell_type": "code",
   "execution_count": 10,
   "metadata": {
    "collapsed": true
   },
   "outputs": [
    {
     "name": "stdout",
     "output_type": "stream",
     "text": [
      "['/home/yin/.local/share/JetBrains/Toolbox/apps/PyCharm-P/ch-0/213.7172.26/plugins/python/helpers-pro/jupyter_debug', '/home/yin/.local/share/JetBrains/Toolbox/apps/PyCharm-P/ch-0/213.7172.26/plugins/python/helpers/pydev', '/home/yin/Public/workon/zjsu/mathcup2022/src', '/home/yin/Public/workon/zjsu/mathcup2022', '/home/yin/.conda/envs/pt/lib/python38.zip', '/home/yin/.conda/envs/pt/lib/python3.8', '/home/yin/.conda/envs/pt/lib/python3.8/lib-dynload', '', '/home/yin/.conda/envs/pt/lib/python3.8/site-packages']\n"
     ]
    }
   ],
   "source": [
    "# import\n",
    "import pandas as pd\n",
    "import sys\n",
    "print(sys.path)"
   ]
  },
  {
   "cell_type": "markdown",
   "source": [
    "## Data loader\n",
    "## 2018-2019 part1\n",
    "酒店评论 hotel\n",
    "景区评论 scenic\n",
    "游记攻略 travel\n",
    "餐饮评论 food\n",
    "微信公众号新闻 news\n",
    "## 2020-2021 part2\n",
    "酒店评论 hotel\n",
    "评论IDmap Sheet1\n",
    "景区评论 scenic\n",
    "游记攻略 travel\n",
    "餐饮评论 food\n",
    "微信公众号新闻 news"
   ],
   "metadata": {
    "collapsed": false,
    "pycharm": {
     "name": "#%% md\n"
    }
   }
  },
  {
   "cell_type": "code",
   "execution_count": 11,
   "outputs": [],
   "source": [
    "dataset_part1_path = \"dataset/dataset-2018-2019.xlsx\"\n",
    "dataset_part2_path = \"dataset/dataset-2020-2021.xlsx\""
   ],
   "metadata": {
    "collapsed": false,
    "pycharm": {
     "name": "#%%\n"
    }
   }
  },
  {
   "cell_type": "code",
   "execution_count": 12,
   "outputs": [],
   "source": [
    "dataset_part_hotel = pd.read_excel(dataset_part1_path, sheet_name='景区评论')"
   ],
   "metadata": {
    "collapsed": false,
    "pycharm": {
     "name": "#%%\n"
    }
   }
  },
  {
   "cell_type": "code",
   "execution_count": 13,
   "outputs": [
    {
     "name": "stdout",
     "output_type": "stream",
     "text": [
      "     景区评论ID  城市            景区名称        评论日期  \\\n",
      "0      1001  茂名      中国第一滩旅游度假区  2018-01-01   \n",
      "1      1002  茂名  广垦（茂名）国家热带农业公园  2018-01-02   \n",
      "2      1003  茂名         西江温泉度假村  2018-01-03   \n",
      "3      1004  茂名             石根山  2018-01-05   \n",
      "4      1005  茂名        天马山生态旅游区  2018-01-06   \n",
      "..      ...  ..             ...         ...   \n",
      "534    1535  茂名      御水古温泉旅游度假区  2019-12-27   \n",
      "535    1536  茂名            瀛州公园  2019-12-28   \n",
      "536    1537  茂名         乐天温泉度假村  2019-12-29   \n",
      "537    1538  茂名             特呈岛  2019-12-30   \n",
      "538    1539  茂名         湛江红嘴鸥游船  2019-12-31   \n",
      "\n",
      "                                                  评论内容  \n",
      "0                                        超级美 冬天白日里最是舒服  \n",
      "1    上了一节深刻的农业科普课，值了，在携程买价格挺合理，当时现场活动价35元。“氧吧”，“花海”...  \n",
      "2    西江温泉度假村坐落于南国玉都——信宜市郊北界镇西江岸边，西江温泉故此得名，距市中心12公里，...  \n",
      "3        爬的很累！感觉还是挺不错的，设施再升级完善。2个多小时才爬到山顶！要是有玻璃栈道就完美了！  \n",
      "4    这次是和家人一起出游，选择天马山也是觉得比较适合老人和小朋友，游玩起来不会太累。其实早在04...  \n",
      "..                                                 ...  \n",
      "534                                          还不错，出游好去处  \n",
      "535  瀛洲公园占地面积60亩，始建于上世纪九十年代末，公园内绿草如茵，弯曲的小径将公园分为几个小区...  \n",
      "536                              还是不错的，一整天的休闲娱乐全包，值得购买  \n",
      "537  太多的攻略介绍都没有涉及怎么坐船去，其实车客渡每个人只要3元，快船也只要6元。由于错过航班，...  \n",
      "538  海港非常漂亮，能看到军舰，船上一直有语音导游，真心不错，值！！！ 我们坐的是加班船，船上的卫...  \n",
      "\n",
      "[539 rows x 5 columns]\n"
     ]
    }
   ],
   "source": [
    "print(dataset_part_hotel)"
   ],
   "metadata": {
    "collapsed": false,
    "pycharm": {
     "name": "#%%\n"
    }
   }
  },
  {
   "cell_type": "code",
   "execution_count": null,
   "outputs": [],
   "source": [],
   "metadata": {
    "collapsed": false,
    "pycharm": {
     "name": "#%%\n"
    }
   }
  }
 ],
 "metadata": {
  "kernelspec": {
   "display_name": "Python 3",
   "language": "python",
   "name": "python3"
  },
  "language_info": {
   "codemirror_mode": {
    "name": "ipython",
    "version": 2
   },
   "file_extension": ".py",
   "mimetype": "text/x-python",
   "name": "python",
   "nbconvert_exporter": "python",
   "pygments_lexer": "ipython2",
   "version": "2.7.6"
  }
 },
 "nbformat": 4,
 "nbformat_minor": 0
}